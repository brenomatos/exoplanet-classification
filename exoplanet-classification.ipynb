{
 "cells": [
  {
   "cell_type": "markdown",
   "metadata": {},
   "source": [
    "\n",
    "# Exoplanet Classification\n"
   ]
  },
  {
   "cell_type": "markdown",
   "metadata": {},
   "source": [
    "## 1. Introduction\n",
    "\n",
    "In this repository we compare multiple machine learning algorithms for binary classification.\n",
    "\n",
    "The methods will be tested on the task of binary classification of exoplanet candidates found by NASA’s Kepler spacecraft, found [here](https://exoplanetarchive.ipac.caltech.edu).\n",
    "\n",
    "An exoplanet is a planet outside of the solar system (i.e. does not orbit\n",
    "the sun). The spacecraft first identifies possible signs of exoplanets, referred to as Kepler Object\n",
    "of Interest (KOI). Not all KOIs are actual exoplanets however, some are false positives of different\n",
    "natures. The task performed is to classify KOIs between confirmed exoplanets and false positives. Each\n",
    "observation corresponds to a KOI and the features are estimates of the physical properties of the\n",
    "(possible) exoplanet (radius, temperature, features of the host star, etc)."
   ]
  },
  {
   "cell_type": "markdown",
   "metadata": {},
   "source": [
    "## 2. Imports and Input Reading"
   ]
  },
  {
   "cell_type": "code",
   "execution_count": 1,
   "metadata": {},
   "outputs": [],
   "source": [
    "import pandas as pd\n",
    "import numpy as np\n",
    "import warnings\n",
    "\n",
    "import matplotlib as mpl\n",
    "import matplotlib.pyplot as plt\n",
    "import seaborn as sns\n",
    "\n",
    "from IPython.display import display\n",
    "\n",
    "from sklearn import svm\n",
    "from sklearn import metrics\n",
    "from sklearn import tree\n",
    "from sklearn import ensemble\n",
    "from sklearn.metrics import accuracy_score\n",
    "from sklearn.naive_bayes import GaussianNB\n",
    "from sklearn.model_selection import KFold\n",
    "from sklearn import neighbors\n",
    "from sklearn import feature_selection\n",
    "from sklearn.model_selection import train_test_split\n",
    "from sklearn.metrics import roc_curve,auc,precision_score,recall_score\n",
    "\n"
   ]
  },
  {
   "cell_type": "code",
   "execution_count": 2,
   "metadata": {},
   "outputs": [],
   "source": [
    "warnings.simplefilter(\"ignore\")\n",
    "sns.set(rc={'figure.figsize':(10,10)})"
   ]
  },
  {
   "cell_type": "markdown",
   "metadata": {},
   "source": [
    "Reading the dataset"
   ]
  },
  {
   "cell_type": "code",
   "execution_count": 3,
   "metadata": {},
   "outputs": [
    {
     "data": {
      "text/html": [
       "<div>\n",
       "<style scoped>\n",
       "    .dataframe tbody tr th:only-of-type {\n",
       "        vertical-align: middle;\n",
       "    }\n",
       "\n",
       "    .dataframe tbody tr th {\n",
       "        vertical-align: top;\n",
       "    }\n",
       "\n",
       "    .dataframe thead th {\n",
       "        text-align: right;\n",
       "    }\n",
       "</style>\n",
       "<table border=\"1\" class=\"dataframe\">\n",
       "  <thead>\n",
       "    <tr style=\"text-align: right;\">\n",
       "      <th></th>\n",
       "      <th>kepoi_name</th>\n",
       "      <th>koi_disposition</th>\n",
       "      <th>koi_period</th>\n",
       "      <th>koi_impact</th>\n",
       "      <th>koi_duration</th>\n",
       "      <th>koi_depth</th>\n",
       "      <th>koi_ror</th>\n",
       "      <th>koi_srho</th>\n",
       "      <th>koi_prad</th>\n",
       "      <th>koi_sma</th>\n",
       "      <th>...</th>\n",
       "      <th>koi_fwm_srao</th>\n",
       "      <th>koi_fwm_sdeco</th>\n",
       "      <th>koi_fwm_prao</th>\n",
       "      <th>koi_fwm_pdeco</th>\n",
       "      <th>koi_dicco_mra</th>\n",
       "      <th>koi_dicco_mdec</th>\n",
       "      <th>koi_dicco_msky</th>\n",
       "      <th>koi_dikco_mra</th>\n",
       "      <th>koi_dikco_mdec</th>\n",
       "      <th>koi_dikco_msky</th>\n",
       "    </tr>\n",
       "  </thead>\n",
       "  <tbody>\n",
       "    <tr>\n",
       "      <th>0</th>\n",
       "      <td>K00752.01</td>\n",
       "      <td>CONFIRMED</td>\n",
       "      <td>9.48804</td>\n",
       "      <td>0.146</td>\n",
       "      <td>2.95750</td>\n",
       "      <td>615.8</td>\n",
       "      <td>0.02234</td>\n",
       "      <td>3.20796</td>\n",
       "      <td>2.26</td>\n",
       "      <td>0.0853</td>\n",
       "      <td>...</td>\n",
       "      <td>0.430</td>\n",
       "      <td>0.940</td>\n",
       "      <td>-0.00020</td>\n",
       "      <td>-0.00055</td>\n",
       "      <td>-0.010</td>\n",
       "      <td>0.200</td>\n",
       "      <td>0.200</td>\n",
       "      <td>0.080</td>\n",
       "      <td>0.310</td>\n",
       "      <td>0.320</td>\n",
       "    </tr>\n",
       "    <tr>\n",
       "      <th>1</th>\n",
       "      <td>K00752.02</td>\n",
       "      <td>CONFIRMED</td>\n",
       "      <td>54.41838</td>\n",
       "      <td>0.586</td>\n",
       "      <td>4.50700</td>\n",
       "      <td>874.8</td>\n",
       "      <td>0.02795</td>\n",
       "      <td>3.02368</td>\n",
       "      <td>2.83</td>\n",
       "      <td>0.2734</td>\n",
       "      <td>...</td>\n",
       "      <td>-0.630</td>\n",
       "      <td>1.230</td>\n",
       "      <td>0.00066</td>\n",
       "      <td>-0.00105</td>\n",
       "      <td>0.390</td>\n",
       "      <td>0.000</td>\n",
       "      <td>0.390</td>\n",
       "      <td>0.490</td>\n",
       "      <td>0.120</td>\n",
       "      <td>0.500</td>\n",
       "    </tr>\n",
       "    <tr>\n",
       "      <th>2</th>\n",
       "      <td>K00754.01</td>\n",
       "      <td>FALSE POSITIVE</td>\n",
       "      <td>1.73695</td>\n",
       "      <td>1.276</td>\n",
       "      <td>2.40641</td>\n",
       "      <td>8079.2</td>\n",
       "      <td>0.38739</td>\n",
       "      <td>0.22080</td>\n",
       "      <td>33.46</td>\n",
       "      <td>0.0267</td>\n",
       "      <td>...</td>\n",
       "      <td>-0.111</td>\n",
       "      <td>0.002</td>\n",
       "      <td>0.00302</td>\n",
       "      <td>-0.00142</td>\n",
       "      <td>-0.249</td>\n",
       "      <td>0.147</td>\n",
       "      <td>0.289</td>\n",
       "      <td>-0.257</td>\n",
       "      <td>0.099</td>\n",
       "      <td>0.276</td>\n",
       "    </tr>\n",
       "    <tr>\n",
       "      <th>3</th>\n",
       "      <td>K00755.01</td>\n",
       "      <td>CONFIRMED</td>\n",
       "      <td>2.52559</td>\n",
       "      <td>0.701</td>\n",
       "      <td>1.65450</td>\n",
       "      <td>603.3</td>\n",
       "      <td>0.02406</td>\n",
       "      <td>1.98635</td>\n",
       "      <td>2.75</td>\n",
       "      <td>0.0374</td>\n",
       "      <td>...</td>\n",
       "      <td>-0.010</td>\n",
       "      <td>0.230</td>\n",
       "      <td>0.00008</td>\n",
       "      <td>-0.00007</td>\n",
       "      <td>0.030</td>\n",
       "      <td>-0.090</td>\n",
       "      <td>0.100</td>\n",
       "      <td>0.070</td>\n",
       "      <td>0.020</td>\n",
       "      <td>0.070</td>\n",
       "    </tr>\n",
       "    <tr>\n",
       "      <th>4</th>\n",
       "      <td>K00114.01</td>\n",
       "      <td>FALSE POSITIVE</td>\n",
       "      <td>7.36179</td>\n",
       "      <td>1.169</td>\n",
       "      <td>5.02200</td>\n",
       "      <td>233.7</td>\n",
       "      <td>0.18339</td>\n",
       "      <td>0.00485</td>\n",
       "      <td>39.21</td>\n",
       "      <td>0.0820</td>\n",
       "      <td>...</td>\n",
       "      <td>-13.450</td>\n",
       "      <td>24.090</td>\n",
       "      <td>0.00303</td>\n",
       "      <td>-0.00555</td>\n",
       "      <td>-4.506</td>\n",
       "      <td>7.710</td>\n",
       "      <td>8.930</td>\n",
       "      <td>-4.537</td>\n",
       "      <td>7.713</td>\n",
       "      <td>8.948</td>\n",
       "    </tr>\n",
       "  </tbody>\n",
       "</table>\n",
       "<p>5 rows × 43 columns</p>\n",
       "</div>"
      ],
      "text/plain": [
       "  kepoi_name koi_disposition  koi_period  koi_impact  koi_duration  koi_depth  \\\n",
       "0  K00752.01       CONFIRMED     9.48804       0.146       2.95750      615.8   \n",
       "1  K00752.02       CONFIRMED    54.41838       0.586       4.50700      874.8   \n",
       "2  K00754.01  FALSE POSITIVE     1.73695       1.276       2.40641     8079.2   \n",
       "3  K00755.01       CONFIRMED     2.52559       0.701       1.65450      603.3   \n",
       "4  K00114.01  FALSE POSITIVE     7.36179       1.169       5.02200      233.7   \n",
       "\n",
       "   koi_ror  koi_srho  koi_prad  koi_sma  ...  koi_fwm_srao  koi_fwm_sdeco  \\\n",
       "0  0.02234   3.20796      2.26   0.0853  ...         0.430          0.940   \n",
       "1  0.02795   3.02368      2.83   0.2734  ...        -0.630          1.230   \n",
       "2  0.38739   0.22080     33.46   0.0267  ...        -0.111          0.002   \n",
       "3  0.02406   1.98635      2.75   0.0374  ...        -0.010          0.230   \n",
       "4  0.18339   0.00485     39.21   0.0820  ...       -13.450         24.090   \n",
       "\n",
       "   koi_fwm_prao  koi_fwm_pdeco  koi_dicco_mra  koi_dicco_mdec  koi_dicco_msky  \\\n",
       "0      -0.00020       -0.00055         -0.010           0.200           0.200   \n",
       "1       0.00066       -0.00105          0.390           0.000           0.390   \n",
       "2       0.00302       -0.00142         -0.249           0.147           0.289   \n",
       "3       0.00008       -0.00007          0.030          -0.090           0.100   \n",
       "4       0.00303       -0.00555         -4.506           7.710           8.930   \n",
       "\n",
       "   koi_dikco_mra  koi_dikco_mdec  koi_dikco_msky  \n",
       "0          0.080           0.310           0.320  \n",
       "1          0.490           0.120           0.500  \n",
       "2         -0.257           0.099           0.276  \n",
       "3          0.070           0.020           0.070  \n",
       "4         -4.537           7.713           8.948  \n",
       "\n",
       "[5 rows x 43 columns]"
      ]
     },
     "execution_count": 3,
     "metadata": {},
     "output_type": "execute_result"
    }
   ],
   "source": [
    "df = pd.read_csv(\"koi_data.csv\")\n",
    "df.head()"
   ]
  },
  {
   "cell_type": "markdown",
   "metadata": {},
   "source": [
    "## Pre-processing"
   ]
  },
  {
   "cell_type": "markdown",
   "metadata": {},
   "source": [
    "Changing categoric data to discrete values"
   ]
  },
  {
   "cell_type": "code",
   "execution_count": 4,
   "metadata": {},
   "outputs": [
    {
     "data": {
      "text/html": [
       "<div>\n",
       "<style scoped>\n",
       "    .dataframe tbody tr th:only-of-type {\n",
       "        vertical-align: middle;\n",
       "    }\n",
       "\n",
       "    .dataframe tbody tr th {\n",
       "        vertical-align: top;\n",
       "    }\n",
       "\n",
       "    .dataframe thead th {\n",
       "        text-align: right;\n",
       "    }\n",
       "</style>\n",
       "<table border=\"1\" class=\"dataframe\">\n",
       "  <thead>\n",
       "    <tr style=\"text-align: right;\">\n",
       "      <th></th>\n",
       "      <th>kepoi_name</th>\n",
       "      <th>koi_disposition</th>\n",
       "      <th>koi_period</th>\n",
       "      <th>koi_impact</th>\n",
       "      <th>koi_duration</th>\n",
       "      <th>koi_depth</th>\n",
       "      <th>koi_ror</th>\n",
       "      <th>koi_srho</th>\n",
       "      <th>koi_prad</th>\n",
       "      <th>koi_sma</th>\n",
       "      <th>...</th>\n",
       "      <th>koi_fwm_srao</th>\n",
       "      <th>koi_fwm_sdeco</th>\n",
       "      <th>koi_fwm_prao</th>\n",
       "      <th>koi_fwm_pdeco</th>\n",
       "      <th>koi_dicco_mra</th>\n",
       "      <th>koi_dicco_mdec</th>\n",
       "      <th>koi_dicco_msky</th>\n",
       "      <th>koi_dikco_mra</th>\n",
       "      <th>koi_dikco_mdec</th>\n",
       "      <th>koi_dikco_msky</th>\n",
       "    </tr>\n",
       "  </thead>\n",
       "  <tbody>\n",
       "    <tr>\n",
       "      <th>0</th>\n",
       "      <td>K00752.01</td>\n",
       "      <td>1</td>\n",
       "      <td>9.48804</td>\n",
       "      <td>0.146</td>\n",
       "      <td>2.95750</td>\n",
       "      <td>615.8</td>\n",
       "      <td>0.02234</td>\n",
       "      <td>3.20796</td>\n",
       "      <td>2.26</td>\n",
       "      <td>0.0853</td>\n",
       "      <td>...</td>\n",
       "      <td>0.430</td>\n",
       "      <td>0.940</td>\n",
       "      <td>-0.00020</td>\n",
       "      <td>-0.00055</td>\n",
       "      <td>-0.010</td>\n",
       "      <td>0.200</td>\n",
       "      <td>0.200</td>\n",
       "      <td>0.080</td>\n",
       "      <td>0.310</td>\n",
       "      <td>0.320</td>\n",
       "    </tr>\n",
       "    <tr>\n",
       "      <th>1</th>\n",
       "      <td>K00752.02</td>\n",
       "      <td>1</td>\n",
       "      <td>54.41838</td>\n",
       "      <td>0.586</td>\n",
       "      <td>4.50700</td>\n",
       "      <td>874.8</td>\n",
       "      <td>0.02795</td>\n",
       "      <td>3.02368</td>\n",
       "      <td>2.83</td>\n",
       "      <td>0.2734</td>\n",
       "      <td>...</td>\n",
       "      <td>-0.630</td>\n",
       "      <td>1.230</td>\n",
       "      <td>0.00066</td>\n",
       "      <td>-0.00105</td>\n",
       "      <td>0.390</td>\n",
       "      <td>0.000</td>\n",
       "      <td>0.390</td>\n",
       "      <td>0.490</td>\n",
       "      <td>0.120</td>\n",
       "      <td>0.500</td>\n",
       "    </tr>\n",
       "    <tr>\n",
       "      <th>2</th>\n",
       "      <td>K00754.01</td>\n",
       "      <td>0</td>\n",
       "      <td>1.73695</td>\n",
       "      <td>1.276</td>\n",
       "      <td>2.40641</td>\n",
       "      <td>8079.2</td>\n",
       "      <td>0.38739</td>\n",
       "      <td>0.22080</td>\n",
       "      <td>33.46</td>\n",
       "      <td>0.0267</td>\n",
       "      <td>...</td>\n",
       "      <td>-0.111</td>\n",
       "      <td>0.002</td>\n",
       "      <td>0.00302</td>\n",
       "      <td>-0.00142</td>\n",
       "      <td>-0.249</td>\n",
       "      <td>0.147</td>\n",
       "      <td>0.289</td>\n",
       "      <td>-0.257</td>\n",
       "      <td>0.099</td>\n",
       "      <td>0.276</td>\n",
       "    </tr>\n",
       "    <tr>\n",
       "      <th>3</th>\n",
       "      <td>K00755.01</td>\n",
       "      <td>1</td>\n",
       "      <td>2.52559</td>\n",
       "      <td>0.701</td>\n",
       "      <td>1.65450</td>\n",
       "      <td>603.3</td>\n",
       "      <td>0.02406</td>\n",
       "      <td>1.98635</td>\n",
       "      <td>2.75</td>\n",
       "      <td>0.0374</td>\n",
       "      <td>...</td>\n",
       "      <td>-0.010</td>\n",
       "      <td>0.230</td>\n",
       "      <td>0.00008</td>\n",
       "      <td>-0.00007</td>\n",
       "      <td>0.030</td>\n",
       "      <td>-0.090</td>\n",
       "      <td>0.100</td>\n",
       "      <td>0.070</td>\n",
       "      <td>0.020</td>\n",
       "      <td>0.070</td>\n",
       "    </tr>\n",
       "    <tr>\n",
       "      <th>4</th>\n",
       "      <td>K00114.01</td>\n",
       "      <td>0</td>\n",
       "      <td>7.36179</td>\n",
       "      <td>1.169</td>\n",
       "      <td>5.02200</td>\n",
       "      <td>233.7</td>\n",
       "      <td>0.18339</td>\n",
       "      <td>0.00485</td>\n",
       "      <td>39.21</td>\n",
       "      <td>0.0820</td>\n",
       "      <td>...</td>\n",
       "      <td>-13.450</td>\n",
       "      <td>24.090</td>\n",
       "      <td>0.00303</td>\n",
       "      <td>-0.00555</td>\n",
       "      <td>-4.506</td>\n",
       "      <td>7.710</td>\n",
       "      <td>8.930</td>\n",
       "      <td>-4.537</td>\n",
       "      <td>7.713</td>\n",
       "      <td>8.948</td>\n",
       "    </tr>\n",
       "  </tbody>\n",
       "</table>\n",
       "<p>5 rows × 43 columns</p>\n",
       "</div>"
      ],
      "text/plain": [
       "  kepoi_name  koi_disposition  koi_period  koi_impact  koi_duration  \\\n",
       "0  K00752.01                1     9.48804       0.146       2.95750   \n",
       "1  K00752.02                1    54.41838       0.586       4.50700   \n",
       "2  K00754.01                0     1.73695       1.276       2.40641   \n",
       "3  K00755.01                1     2.52559       0.701       1.65450   \n",
       "4  K00114.01                0     7.36179       1.169       5.02200   \n",
       "\n",
       "   koi_depth  koi_ror  koi_srho  koi_prad  koi_sma  ...  koi_fwm_srao  \\\n",
       "0      615.8  0.02234   3.20796      2.26   0.0853  ...         0.430   \n",
       "1      874.8  0.02795   3.02368      2.83   0.2734  ...        -0.630   \n",
       "2     8079.2  0.38739   0.22080     33.46   0.0267  ...        -0.111   \n",
       "3      603.3  0.02406   1.98635      2.75   0.0374  ...        -0.010   \n",
       "4      233.7  0.18339   0.00485     39.21   0.0820  ...       -13.450   \n",
       "\n",
       "   koi_fwm_sdeco  koi_fwm_prao  koi_fwm_pdeco  koi_dicco_mra  koi_dicco_mdec  \\\n",
       "0          0.940      -0.00020       -0.00055         -0.010           0.200   \n",
       "1          1.230       0.00066       -0.00105          0.390           0.000   \n",
       "2          0.002       0.00302       -0.00142         -0.249           0.147   \n",
       "3          0.230       0.00008       -0.00007          0.030          -0.090   \n",
       "4         24.090       0.00303       -0.00555         -4.506           7.710   \n",
       "\n",
       "   koi_dicco_msky  koi_dikco_mra  koi_dikco_mdec  koi_dikco_msky  \n",
       "0           0.200          0.080           0.310           0.320  \n",
       "1           0.390          0.490           0.120           0.500  \n",
       "2           0.289         -0.257           0.099           0.276  \n",
       "3           0.100          0.070           0.020           0.070  \n",
       "4           8.930         -4.537           7.713           8.948  \n",
       "\n",
       "[5 rows x 43 columns]"
      ]
     },
     "execution_count": 4,
     "metadata": {},
     "output_type": "execute_result"
    }
   ],
   "source": [
    "# koi_disposition column is now 1 if it's confirmed or 0 otherwise\n",
    "data = df.copy()\n",
    "data[\"koi_disposition\"] = df[\"koi_disposition\"].apply(lambda x: 1 if (x=='CONFIRMED') else 0)\n",
    "\n",
    "data.head()"
   ]
  },
  {
   "cell_type": "code",
   "execution_count": 5,
   "metadata": {},
   "outputs": [
    {
     "data": {
      "text/html": [
       "<div>\n",
       "<style scoped>\n",
       "    .dataframe tbody tr th:only-of-type {\n",
       "        vertical-align: middle;\n",
       "    }\n",
       "\n",
       "    .dataframe tbody tr th {\n",
       "        vertical-align: top;\n",
       "    }\n",
       "\n",
       "    .dataframe thead th {\n",
       "        text-align: right;\n",
       "    }\n",
       "</style>\n",
       "<table border=\"1\" class=\"dataframe\">\n",
       "  <thead>\n",
       "    <tr style=\"text-align: right;\">\n",
       "      <th></th>\n",
       "      <th>kepoi_name</th>\n",
       "      <th>koi_disposition</th>\n",
       "      <th>koi_period</th>\n",
       "      <th>koi_impact</th>\n",
       "      <th>koi_duration</th>\n",
       "      <th>koi_depth</th>\n",
       "      <th>koi_ror</th>\n",
       "      <th>koi_srho</th>\n",
       "      <th>koi_prad</th>\n",
       "      <th>koi_sma</th>\n",
       "      <th>...</th>\n",
       "      <th>koi_fwm_srao</th>\n",
       "      <th>koi_fwm_sdeco</th>\n",
       "      <th>koi_fwm_prao</th>\n",
       "      <th>koi_fwm_pdeco</th>\n",
       "      <th>koi_dicco_mra</th>\n",
       "      <th>koi_dicco_mdec</th>\n",
       "      <th>koi_dicco_msky</th>\n",
       "      <th>koi_dikco_mra</th>\n",
       "      <th>koi_dikco_mdec</th>\n",
       "      <th>koi_dikco_msky</th>\n",
       "    </tr>\n",
       "  </thead>\n",
       "  <tbody>\n",
       "    <tr>\n",
       "      <th>0</th>\n",
       "      <td>0</td>\n",
       "      <td>1</td>\n",
       "      <td>9.48804</td>\n",
       "      <td>0.146</td>\n",
       "      <td>2.95750</td>\n",
       "      <td>615.8</td>\n",
       "      <td>0.02234</td>\n",
       "      <td>3.20796</td>\n",
       "      <td>2.26</td>\n",
       "      <td>0.0853</td>\n",
       "      <td>...</td>\n",
       "      <td>0.430</td>\n",
       "      <td>0.940</td>\n",
       "      <td>-0.00020</td>\n",
       "      <td>-0.00055</td>\n",
       "      <td>-0.010</td>\n",
       "      <td>0.200</td>\n",
       "      <td>0.200</td>\n",
       "      <td>0.080</td>\n",
       "      <td>0.310</td>\n",
       "      <td>0.320</td>\n",
       "    </tr>\n",
       "    <tr>\n",
       "      <th>1</th>\n",
       "      <td>1</td>\n",
       "      <td>1</td>\n",
       "      <td>54.41838</td>\n",
       "      <td>0.586</td>\n",
       "      <td>4.50700</td>\n",
       "      <td>874.8</td>\n",
       "      <td>0.02795</td>\n",
       "      <td>3.02368</td>\n",
       "      <td>2.83</td>\n",
       "      <td>0.2734</td>\n",
       "      <td>...</td>\n",
       "      <td>-0.630</td>\n",
       "      <td>1.230</td>\n",
       "      <td>0.00066</td>\n",
       "      <td>-0.00105</td>\n",
       "      <td>0.390</td>\n",
       "      <td>0.000</td>\n",
       "      <td>0.390</td>\n",
       "      <td>0.490</td>\n",
       "      <td>0.120</td>\n",
       "      <td>0.500</td>\n",
       "    </tr>\n",
       "    <tr>\n",
       "      <th>2</th>\n",
       "      <td>2</td>\n",
       "      <td>0</td>\n",
       "      <td>1.73695</td>\n",
       "      <td>1.276</td>\n",
       "      <td>2.40641</td>\n",
       "      <td>8079.2</td>\n",
       "      <td>0.38739</td>\n",
       "      <td>0.22080</td>\n",
       "      <td>33.46</td>\n",
       "      <td>0.0267</td>\n",
       "      <td>...</td>\n",
       "      <td>-0.111</td>\n",
       "      <td>0.002</td>\n",
       "      <td>0.00302</td>\n",
       "      <td>-0.00142</td>\n",
       "      <td>-0.249</td>\n",
       "      <td>0.147</td>\n",
       "      <td>0.289</td>\n",
       "      <td>-0.257</td>\n",
       "      <td>0.099</td>\n",
       "      <td>0.276</td>\n",
       "    </tr>\n",
       "    <tr>\n",
       "      <th>3</th>\n",
       "      <td>3</td>\n",
       "      <td>1</td>\n",
       "      <td>2.52559</td>\n",
       "      <td>0.701</td>\n",
       "      <td>1.65450</td>\n",
       "      <td>603.3</td>\n",
       "      <td>0.02406</td>\n",
       "      <td>1.98635</td>\n",
       "      <td>2.75</td>\n",
       "      <td>0.0374</td>\n",
       "      <td>...</td>\n",
       "      <td>-0.010</td>\n",
       "      <td>0.230</td>\n",
       "      <td>0.00008</td>\n",
       "      <td>-0.00007</td>\n",
       "      <td>0.030</td>\n",
       "      <td>-0.090</td>\n",
       "      <td>0.100</td>\n",
       "      <td>0.070</td>\n",
       "      <td>0.020</td>\n",
       "      <td>0.070</td>\n",
       "    </tr>\n",
       "    <tr>\n",
       "      <th>4</th>\n",
       "      <td>4</td>\n",
       "      <td>0</td>\n",
       "      <td>7.36179</td>\n",
       "      <td>1.169</td>\n",
       "      <td>5.02200</td>\n",
       "      <td>233.7</td>\n",
       "      <td>0.18339</td>\n",
       "      <td>0.00485</td>\n",
       "      <td>39.21</td>\n",
       "      <td>0.0820</td>\n",
       "      <td>...</td>\n",
       "      <td>-13.450</td>\n",
       "      <td>24.090</td>\n",
       "      <td>0.00303</td>\n",
       "      <td>-0.00555</td>\n",
       "      <td>-4.506</td>\n",
       "      <td>7.710</td>\n",
       "      <td>8.930</td>\n",
       "      <td>-4.537</td>\n",
       "      <td>7.713</td>\n",
       "      <td>8.948</td>\n",
       "    </tr>\n",
       "  </tbody>\n",
       "</table>\n",
       "<p>5 rows × 43 columns</p>\n",
       "</div>"
      ],
      "text/plain": [
       "   kepoi_name  koi_disposition  koi_period  koi_impact  koi_duration  \\\n",
       "0           0                1     9.48804       0.146       2.95750   \n",
       "1           1                1    54.41838       0.586       4.50700   \n",
       "2           2                0     1.73695       1.276       2.40641   \n",
       "3           3                1     2.52559       0.701       1.65450   \n",
       "4           4                0     7.36179       1.169       5.02200   \n",
       "\n",
       "   koi_depth  koi_ror  koi_srho  koi_prad  koi_sma  ...  koi_fwm_srao  \\\n",
       "0      615.8  0.02234   3.20796      2.26   0.0853  ...         0.430   \n",
       "1      874.8  0.02795   3.02368      2.83   0.2734  ...        -0.630   \n",
       "2     8079.2  0.38739   0.22080     33.46   0.0267  ...        -0.111   \n",
       "3      603.3  0.02406   1.98635      2.75   0.0374  ...        -0.010   \n",
       "4      233.7  0.18339   0.00485     39.21   0.0820  ...       -13.450   \n",
       "\n",
       "   koi_fwm_sdeco  koi_fwm_prao  koi_fwm_pdeco  koi_dicco_mra  koi_dicco_mdec  \\\n",
       "0          0.940      -0.00020       -0.00055         -0.010           0.200   \n",
       "1          1.230       0.00066       -0.00105          0.390           0.000   \n",
       "2          0.002       0.00302       -0.00142         -0.249           0.147   \n",
       "3          0.230       0.00008       -0.00007          0.030          -0.090   \n",
       "4         24.090       0.00303       -0.00555         -4.506           7.710   \n",
       "\n",
       "   koi_dicco_msky  koi_dikco_mra  koi_dikco_mdec  koi_dikco_msky  \n",
       "0           0.200          0.080           0.310           0.320  \n",
       "1           0.390          0.490           0.120           0.500  \n",
       "2           0.289         -0.257           0.099           0.276  \n",
       "3           0.100          0.070           0.020           0.070  \n",
       "4           8.930         -4.537           7.713           8.948  \n",
       "\n",
       "[5 rows x 43 columns]"
      ]
     },
     "execution_count": 5,
     "metadata": {},
     "output_type": "execute_result"
    }
   ],
   "source": [
    "# changing kepoi_name to numeric values\n",
    "data[\"kepoi_name\"] = data.index\n",
    "data.head()"
   ]
  },
  {
   "cell_type": "markdown",
   "metadata": {},
   "source": [
    "Feature Selection"
   ]
  },
  {
   "cell_type": "code",
   "execution_count": 6,
   "metadata": {},
   "outputs": [],
   "source": [
    "# feature selection\n",
    "TARGET = \"koi_disposition\"\n",
    "NAME = \"kepoi_name\"\n",
    "N_FEATURES = len(data.columns) - 2 \n",
    "\n",
    "features = list(data.columns)\n",
    "features.remove(TARGET)\n",
    "features.remove(NAME) #removes name from features list\n",
    "\n",
    "skb = feature_selection.SelectKBest(feature_selection.f_classif, N_FEATURES)\n",
    "skb = skb.fit(data[features], data[TARGET])\n"
   ]
  },
  {
   "cell_type": "markdown",
   "metadata": {},
   "source": [
    "## Data Normalization"
   ]
  },
  {
   "cell_type": "code",
   "execution_count": 7,
   "metadata": {},
   "outputs": [],
   "source": [
    "data[features] = data[features] - data[features].mean()\n",
    "data[features] = data[features]/data[features].std()\n",
    "data[\"kepoi_name\"] = df.index # returning to original index"
   ]
  },
  {
   "cell_type": "markdown",
   "metadata": {},
   "source": [
    "## Train/Test Split and Model Evaluation"
   ]
  },
  {
   "cell_type": "code",
   "execution_count": 8,
   "metadata": {},
   "outputs": [],
   "source": [
    "# method performs k-fold cross validation and returns train/test accuracy, \n",
    "# precision and recall\n",
    "index = data[\"kepoi_name\"]\n",
    "k = 5\n",
    "def model_eval(model,data):\n",
    "    results = []\n",
    "    kfold = KFold(n_splits = k)\n",
    "    for train_index,test_index in kfold.split(index):\n",
    "        # train/test split\n",
    "        x_train = skb.transform(data.loc[train_index, features])\n",
    "        y_train = (data.loc[train_index, TARGET])\n",
    "        x_test = skb.transform(data.loc[test_index, features])\n",
    "        y_test = (data.loc[test_index, TARGET])\n",
    "        model.fit(x_train,y_train)\n",
    "        # precision, recall and accuracy       \n",
    "        pred = model.predict(x_test)\n",
    "        acc = accuracy_score(y_test,pred)\n",
    "        train_acc = model.score(x_train,y_train)\n",
    "        precision = precision_score(y_test,pred) \n",
    "        recall = recall_score(y_test,pred)\n",
    "\n",
    "        results.append([acc,train_acc,precision,recall])\n",
    "    # using a dataframe to sotre informations and return k-fold metrics\n",
    "    df_results = pd.DataFrame(results,columns=[\"acc\",\"train_acc\",\"precision\",\"recall\"]) #dataframe que contem todas as acuracias e erri de treino\n",
    "    return df_results[\"acc\"].mean(),df_results[\"train_acc\"].mean(), df_results[\"precision\"].mean(), df_results[\"recall\"].mean()\n",
    "        \n",
    "        \n"
   ]
  },
  {
   "cell_type": "markdown",
   "metadata": {},
   "source": [
    "  ## Graphs"
   ]
  },
  {
   "cell_type": "code",
   "execution_count": null,
   "metadata": {},
   "outputs": [],
   "source": [
    "def graph_plot(df,title):\n",
    "    plt.plot(df[\"model_index\"], df['acc'],label='acc')\n",
    "    plt.plot(df[\"model_index\"], df[\"train_acc\"],label='acc de treino')\n",
    "    plt.title(title)\n",
    "    plt.axhline(c=\"r\",y=naive_acc,label='Naive Bayes')\n",
    "    plt.legend()\n",
    "    plt.show()"
   ]
  },
  {
   "cell_type": "markdown",
   "metadata": {},
   "source": [
    "  ## Best Models\n",
    "  \n",
    "We create a dataframe to store the best models' results"
   ]
  },
  {
   "cell_type": "code",
   "execution_count": null,
   "metadata": {},
   "outputs": [],
   "source": [
    "col = [\"acc\",\"train_acc\",\"parameters\",\"param_value\",\"precision\",\"recall\"]\n",
    "best_index = [\"naive_bayes\",\"decision_tree\",\"svm\",\"knn\",\"random_forest\",\"gt_boosting\"]\n",
    "best_models = pd.DataFrame(columns=col,index=best_index)\n"
   ]
  },
  {
   "cell_type": "code",
   "execution_count": null,
   "metadata": {},
   "outputs": [],
   "source": [
    "# Append to best models dataframe\n",
    "def add_to_best_models(row,bm_acc,bm_train_acc,bm_prec,bm_recall,bm_param=None,bm_param_val=None):\n",
    "    best_models.loc[row][\"acc\"] = bm_acc\n",
    "    best_models.loc[row][\"train_acc\"] = bm_train_acc\n",
    "    best_models.loc[row][\"parameters\"] = bm_param\n",
    "    best_models.loc[row][\"param_value\"] = bm_param_val\n",
    "    best_models.loc[row][\"precision\"] = bm_prec\n",
    "    best_models.loc[row][\"recall\"] = bm_recall"
   ]
  },
  {
   "cell_type": "markdown",
   "metadata": {},
   "source": [
    "  ##  8. Experimental Model Evaluation"
   ]
  },
  {
   "cell_type": "markdown",
   "metadata": {},
   "source": [
    "We'll compare the following machine learning algorithms:\n",
    "1. Naive Bayes\n",
    "2. Decision Tree \n",
    "3. SVM\n",
    "4. K-NN\n",
    "5. Random Forest\n",
    "6. Gradient Tree Boosting\n",
    "\n"
   ]
  },
  {
   "cell_type": "markdown",
   "metadata": {},
   "source": [
    "#### 8.1. Naive Bayes\n",
    "\n",
    "We'll use Naive Bayes as a experimental baseline"
   ]
  },
  {
   "cell_type": "code",
   "execution_count": null,
   "metadata": {},
   "outputs": [
    {
     "data": {
      "text/plain": [
       "acc          0.916176\n",
       "train_acc    0.916858\n",
       "precision    0.675045\n",
       "recall       0.862582\n",
       "Name: naive_bayes, dtype: object"
      ]
     },
     "execution_count": 12,
     "metadata": {},
     "output_type": "execute_result"
    }
   ],
   "source": [
    "gnb = GaussianNB()\n",
    "naive_acc, naive_train_acc, precision, recall = model_eval(gnb,data)\n",
    "\n",
    "# We only create one NB model, so it is our best one\n",
    "add_to_best_models(\"naive_bayes\",naive_acc,naive_train_acc,precision,recall)\n",
    "\n",
    "aux_nb = best_models.loc[\"naive_bayes\"][[\"acc\",\"train_acc\",\"precision\",\"recall\"]]\n",
    "aux_nb"
   ]
  },
  {
   "cell_type": "markdown",
   "metadata": {},
   "source": [
    "Naive Bayes é um algoritmo não paramétrico e que assume independências das features. Além disso, por ser não paramétrico, funciona bem com pouca quantidade de dados. Os resultados obtidos para o Naive Bayes serão utilizados como baseline para os demais experimentos. Obtemos acurácia alta, o que indica que os dados são simples, além de indicar que as features são independentes. "
   ]
  },
  {
   "cell_type": "markdown",
   "metadata": {},
   "source": [
    "#### 8.2. Decision Tree"
   ]
  },
  {
   "cell_type": "code",
   "execution_count": null,
   "metadata": {},
   "outputs": [
    {
     "data": {
      "image/png": "[encoded data removed]",
      "text/plain": [
       "<Figure size 720x720 with 1 Axes>"
      ]
     },
     "metadata": {},
     "output_type": "display_data"
    }
   ],
   "source": [
    "results = []\n",
    "# testando com tamanho ilimitado\n",
    "dec_tree = tree.DecisionTreeClassifier(max_depth=None)\n",
    "acc, train_acc, precision, recall = model_eval(dec_tree,data)\n",
    "results.append([acc, train_acc])\n",
    "\n",
    "dec_tree = 11\n",
    "aux_acc = 0\n",
    "aux_train_acc = 0\n",
    "aux_max_depth = 0\n",
    "aux_precision = 0\n",
    "aux_recall = 0\n",
    "\n",
    "for max_depth in range(1,dec_tree):\n",
    "    dec_tree = tree.DecisionTreeClassifier(max_depth=max_depth)\n",
    "    acc, train_acc, precision,recall = model_eval(dec_tree,data)\n",
    "#   selecionando o melhor modelo\n",
    "    if acc > aux_acc:\n",
    "        aux_acc = acc\n",
    "        aux_train_acc = train_acc\n",
    "        aux_max_depth = max_depth\n",
    "        aux_precision = precision\n",
    "        aux_recall = recall\n",
    "    results.append([acc,train_acc,max_depth])\n",
    "    \n",
    "add_to_best_models(\"decision_tree\",aux_acc,aux_train_acc,precision,recall,\"max_depth\",aux_max_depth)\n",
    "\n",
    "\n",
    "df_dt = pd.DataFrame(results,columns=[\"acc\",\"train_acc\",\"model_index\"])\n",
    "title = \"Árvore de Decisão: Altura x Acurácia\"\n",
    "graph_plot(df_dt,title)\n"
   ]
  },
  {
   "cell_type": "markdown",
   "metadata": {},
   "source": [
    "Para a árvore de decisão, é variado o tamanho máximo para sua altura. Aqui, observamos que, à partir de árvores de altura 8, os modelos começam a apresentar overfitting. Além disso, árvores com altura ilimitada ou menor que 3 causam underfitting, não conseguindo ultrapassar o baseline obtido com o Naive Bayes."
   ]
  },
  {
   "cell_type": "markdown",
   "metadata": {},
   "source": [
    "#### 8.3. SVM"
   ]
  },
  {
   "cell_type": "code",
   "execution_count": null,
   "metadata": {},
   "outputs": [
    {
     "data": {
      "image/png": "[encoded data removed]",
      "text/plain": [
       "<Figure size 720x720 with 1 Axes>"
      ]
     },
     "metadata": {},
     "output_type": "display_data"
    }
   ],
   "source": [
    "kernel_list = [\"linear\",\"sigmoid\",\"poly\",\"rbf\"]\n",
    "results = []\n",
    "c = 1\n",
    "aux_acc = 0\n",
    "aux_train_acc = 0\n",
    "aux_kernel = ''\n",
    "aux_precision = 0\n",
    "aux_recall = 0\n",
    "\n",
    "for kernel in kernel_list:\n",
    "    svm_classifier = svm.SVC(c,kernel,gamma='auto',probability=True)\n",
    "    acc, train_acc, precision, recall = model_eval(svm_classifier, data)\n",
    "    if aux_acc < acc:\n",
    "        aux_acc = acc\n",
    "        aux_train_acc = train_acc\n",
    "        aux_kernel = kernel\n",
    "        aux_precision = precision\n",
    "        aux_recall = recall\n",
    "    results.append([acc,train_acc])\n",
    "df_svm = pd.DataFrame(results,columns=[\"acc\",\"train_acc\"])\n",
    "\n",
    "add_to_best_models(\"svm\",aux_acc,aux_train_acc,aux_precision,aux_recall,\"kernel\",aux_kernel)\n",
    "\n",
    "# Especialmente no SVM, por ser um grafico de barras, nao usaremos\n",
    "# a funcao graph_plot() criada\n",
    "plt.bar(kernel_list,df_svm[\"acc\"])\n",
    "plt.axhline(naive_acc,c=\"r\")\n",
    "plt.show()"
   ]
  },
  {
   "cell_type": "markdown",
   "metadata": {},
   "source": [
    "Para o SVM, é variado o kernel que será utilizado para alterar a representação dos dados, a fim de classficá-los de forma melhor. Ao avaliarmos os modelos criados com kernels distintos, é possível observar que apenas dois deles ultrapassaram o baseline obtido com o Naive Bayes. Dentre os 4 kernels avaliados, obtivemos o melhor resultado com o kernel linear, que demonstra que os dados são quase linearmente separáveis, portanto, não é necessário mudar sua representação para obter bons resultados"
   ]
  },
  {
   "cell_type": "markdown",
   "metadata": {},
   "source": [
    "#### 8.4. K-NN"
   ]
  },
  {
   "cell_type": "code",
   "execution_count": null,
   "metadata": {},
   "outputs": [],
   "source": [
    "results = []\n",
    "aux_acc = 0\n",
    "aux_train_acc = 0\n",
    "aux_k = 0\n",
    "knn_range = 20\n",
    "aux_precision = 0\n",
    "aux_recall = 0\n",
    "\n",
    "for i in range(1,knn_range,2):\n",
    "    knn = neighbors.KNeighborsClassifier(n_neighbors=i)\n",
    "    acc, train_acc, precision, recall = model_eval(knn,data)\n",
    "    if aux_acc < acc:\n",
    "        aux_acc = acc\n",
    "        aux_train_acc = train_acc\n",
    "        aux_k = i\n",
    "        aux_precision = precision\n",
    "        aux_recall = recall\n",
    "    results.append([acc,train_acc,i])\n",
    "\n",
    "df_knn = pd.DataFrame(results, columns=[\"acc\",\"train_acc\",\"model_index\"])\n",
    "\n",
    "add_to_best_models(\"knn\",aux_acc,aux_train_acc,aux_precision,aux_recall,\"n_neighbors\",aux_k)\n",
    "\n",
    "title=\"KNN: K x Acurácia\"\n",
    "graph_plot(df_knn,title)"
   ]
  },
  {
   "cell_type": "markdown",
   "metadata": {},
   "source": [
    "Para o modelo K-NN, é variada a quantidade de vizinhos utilizada para realizar o agrupamento. Dessa forma, ao utilizar uma grande quantidade de vizinhos, o modelo pode apresentar overfitting, pois torna-se tão generalista que não consegue separar os dados, o que pode ser observado no gráfico acima em que, conforme aumentamos a quantidade de vizinhos, a acurácia diminui. "
   ]
  },
  {
   "cell_type": "markdown",
   "metadata": {},
   "source": [
    "#### 8.5. Random Forest"
   ]
  },
  {
   "cell_type": "code",
   "execution_count": null,
   "metadata": {},
   "outputs": [],
   "source": [
    "N = 25\n",
    "max_depth = 5\n",
    "results = []\n",
    "aux_acc = 0\n",
    "aux_train_acc = 0\n",
    "aux_precision = 0\n",
    "aux_recall = 0\n",
    "\n",
    "aux_N = 0\n",
    "for n in range(1,N+1):\n",
    "    random_forest = ensemble.RandomForestClassifier(n_estimators=N, max_depth=max_depth)\n",
    "    acc, train_acc, precision, recall = model_eval(random_forest,data)\n",
    "    if aux_acc < acc:\n",
    "        aux_acc = acc\n",
    "        aux_train_acc = train_acc\n",
    "        aux_N = n\n",
    "        aux_precision = precision\n",
    "        aux_recall = recall\n",
    "    results.append([acc,train_acc,n])\n",
    "\n",
    "\n",
    "add_to_best_models(\"random_forest\",aux_acc,aux_train_acc,aux_precision,aux_recall,\"n_estimators\",aux_N)\n",
    "\n",
    "df_rf = pd.DataFrame(results,columns=[\"acc\",\"train_acc\",\"model_index\"])\n",
    "title = \"Random Forest: # Árvores x Acurácia\"\n",
    "graph_plot(df_rf,title)\n"
   ]
  },
  {
   "cell_type": "markdown",
   "metadata": {},
   "source": [
    "Para o modelo Random Forest, é variada a quantidade de árvores que serão utilizadas por modelo. Além disso, fixamos a altura máxima de todas as árvores para 5. Random Forest baseia-se no conceito de bagging, utilizando amostras do dado a fim de atacar problemas causados devido à variância destes, tornando-se robusto à overfitting. Essa robustez pode ser observada no gráfico acima, em que todos os modelos gerados apresentam acurácia entre 0.93 e 0.94, sem tendência clara de queda\n"
   ]
  },
  {
   "cell_type": "markdown",
   "metadata": {},
   "source": [
    "#### 8.6. Gradient Tree Boosting"
   ]
  },
  {
   "cell_type": "code",
   "execution_count": null,
   "metadata": {},
   "outputs": [],
   "source": [
    "results = []\n",
    "gtb_range = 30\n",
    "aux_acc = 0\n",
    "aux_train_acc = 0\n",
    "aux_estimators = 0\n",
    "aux_precision = 0\n",
    "aux_recall = 0\n",
    "for n_estimators in range(1,gtb_range):\n",
    "    gt_boosting = ensemble.GradientBoostingClassifier(n_estimators=n_estimators)\n",
    "    acc, train_acc, precision,recall = model_eval(gt_boosting,data)\n",
    "    if aux_acc < acc:\n",
    "        aux_acc = acc\n",
    "        aux_train_acc = train_acc\n",
    "        aux_estimators = n_estimators\n",
    "        aux_recall = recall\n",
    "        aux_precision = precision\n",
    "    results.append([acc,train_acc,n_estimators])\n",
    "\n",
    "add_to_best_models(\"gt_boosting\",aux_acc,aux_train_acc,aux_precision,aux_recall,\"n_estimators\",aux_estimators)\n",
    "\n",
    "df_gtb = pd.DataFrame(results,columns=[\"acc\",\"train_acc\",\"model_index\"])\n",
    "title = \"Gradient Tree Boosting: Iterações x Acurácia\"\n",
    "graph_plot(df_gtb,title)\n"
   ]
  },
  {
   "cell_type": "markdown",
   "metadata": {},
   "source": [
    "Para o método Gradient Tree Boosting, variamos o número de iterações realizadas por cada modelo. Este algoritmo baseia-se no conceito de boosting, que, ao utilizar varios modelos simples para criar um modelo forte, torna-se robusto contra overfitting, o que pode ser observado no gráfico obtido, pois, conforme aumentamos o número de iterações, a acurácia apenas tende a subir."
   ]
  },
  {
   "cell_type": "markdown",
   "metadata": {},
   "source": [
    "   ## <p style=\"text-align: center;\">  9. Resultados </p>  "
   ]
  },
  {
   "cell_type": "markdown",
   "metadata": {},
   "source": [
    "### 9.1 Avaliação Comparativa"
   ]
  },
  {
   "cell_type": "markdown",
   "metadata": {},
   "source": [
    "Agora, temos um dataframe com informações sobre os melhores modelos para cada método de classificação"
   ]
  },
  {
   "cell_type": "code",
   "execution_count": null,
   "metadata": {},
   "outputs": [],
   "source": [
    "best_models"
   ]
  },
  {
   "cell_type": "markdown",
   "metadata": {},
   "source": [
    "Abaixo, um gráfico de barras que resume de forma concisa os resultados encontrados"
   ]
  },
  {
   "cell_type": "code",
   "execution_count": null,
   "metadata": {},
   "outputs": [],
   "source": [
    "best_models.plot.barh(y=['acc','train_acc',\"precision\",\"recall\"], \n",
    "             xlim=(0.6,1.0),\n",
    "             title='Avaliação Comparativa')\n",
    "plt.show()"
   ]
  },
  {
   "cell_type": "markdown",
   "metadata": {},
   "source": [
    "**Naive bayes**: Por ser mais simples, sua precisão tende a ser mais baixa que a dos outros modelos, mas o recall contra-balanceia este resultado, devido à simplicidade do problema em questão e à quantidade pequena de entradas, resultando em um bom valor de acurácia. Apesar de ser um modelo simples, ultrapassa os resultados obtidos para o K-NN.\n",
    "\n",
    "**Decision Tree**: Também faz parte da categoria de modelos mais simples, mas é mais robusto que o Naive Bayes, por isso, apresenta melhora significativa na acurácia e na precisão, quando comparada a este, mantendo um recall similar.\n",
    "\n",
    "**SVM**: É um dos modelos mais complexos e robustos dentre os avaliados neste trabalho. Congruentemente, apresentou o segundo maior recall dentre todos os modelos avaliados, contudo, demonstrou precisão mediana, que pode significar que a margem do modelo é muito grande, ocasionando em mais falsos positivos que o esperado.\n",
    "\n",
    "**KNN**: Este modelo não superou o baseline criado com o Naive Bayes. Isto pode ser explicado devido à simplicidade e especificidade do dado em questão. Obteve o maior recall de todos os modelos, mas baixa precisão, menor que o baseline. Este resultado está associado à quantidade de vizinhos escolhida para realizar o agrupamento.\n",
    "\n",
    "**Random Forest**: É um aprimoramento do modelo de decision tree e, portanto, mais robusto. Desta forma, o Random Forest obtêm maior acurácia que a Decision Tree, apesar de serem similares.\n",
    "\n",
    "**Gradient Tree Boosting**: Por ser um modelo baseado no conceito de boosting, é mais generalista, desta forma, apresentou o segundo menor recall dentro todos os modelos. Contudo, obteve a melhor acurácia dentre todos os modelos"
   ]
  },
  {
   "cell_type": "markdown",
   "metadata": {},
   "source": [
    "### 9.2 Curva ROC"
   ]
  },
  {
   "cell_type": "markdown",
   "metadata": {},
   "source": [
    "Na célula abaixo, são instanciados os modelos com os melhores parâmetros obtidos na avaliação experimental"
   ]
  },
  {
   "cell_type": "code",
   "execution_count": null,
   "metadata": {},
   "outputs": [],
   "source": [
    "C=1\n",
    "N=5\n",
    "nb = GaussianNB()\n",
    "svm_classifier = svm.SVC(C,kernel=best_models.loc[\"svm\"][\"param_value\"],gamma='auto',probability=True)\n",
    "decision_tree = tree.DecisionTreeClassifier(max_depth=int(best_models.loc[\"decision_tree\"][\"param_value\"]))\n",
    "knn = neighbors.KNeighborsClassifier(n_neighbors=int(best_models.loc[\"knn\"][\"param_value\"]))\n",
    "random_forest = ensemble.RandomForestClassifier(n_estimators=N, max_depth=int(best_models.loc[\"random_forest\"][\"param_value\"]))\n",
    "gt_boosting = ensemble.GradientBoostingClassifier(n_estimators=int(best_models.loc[\"gt_boosting\"][\"param_value\"]))\n",
    "\n",
    "# a lista abaixo permite iterar pelos modelos no momento de gerar a curva ROC\n",
    "models = [nb, svm_classifier, decision_tree, knn, random_forest, gt_boosting]\n"
   ]
  },
  {
   "cell_type": "markdown",
   "metadata": {},
   "source": [
    "Abaixo, criamos uma função para plotar a curva roc para qualquer modelo."
   ]
  },
  {
   "cell_type": "code",
   "execution_count": null,
   "metadata": {},
   "outputs": [],
   "source": [
    "sns.set(rc={'figure.figsize':(5,5)}) # resetando o tamanho dos graficos, visto que sao 6 em seguida\n",
    "\n",
    "# lista de nomes de metodos para realizar o plot dinamico das curvas ROC de cada metodo\n",
    "methods_names = [\"Naive Bayes\",\"SVM\",\"Decision Tree\",\"K-NN\",\"Random Forest\",\"Gradient Tree Boosting\"]\n",
    "\n",
    "# definimos a funcao abaixo que plota a curva roc para qualquer modelo\n",
    "def plot_roc(model, title):\n",
    "    all_probs = []\n",
    "    all_y_test = []\n",
    "    index = data[\"kepoi_name\"]\n",
    "    k=5\n",
    "    kfold = KFold(n_splits = k)\n",
    "    for train_index,test_index in kfold.split(index):\n",
    "        x_train = skb.transform(data.loc[train_index, features])\n",
    "        y_train = (data.loc[train_index, TARGET])\n",
    "\n",
    "        x_test = skb.transform(data.loc[test_index, features])\n",
    "        y_test = (data.loc[test_index, TARGET])\n",
    "        model.fit(x_train,y_train)\n",
    "\n",
    "        pred = model.predict(x_test).tolist()\n",
    "        probs = model.predict_proba(x_test)[:,1].tolist()\n",
    "        all_probs += probs\n",
    "        all_y_test += y_test.values.tolist()\n",
    "    fpr, tpr, thresholds = roc_curve(all_y_test, all_probs)\n",
    "    sns.lineplot(fpr,tpr,label=\"ROC (AUC = %0.2f )\" %(round(auc(fpr,tpr), 4)))    \n",
    "    plt.title(title)\n",
    "    plt.show()\n",
    "    \n",
    "\n",
    "for j in range(len(models)):\n",
    "    plot_roc(models[j], \"ROC curve: \" + methods_names[j])\n"
   ]
  },
  {
   "cell_type": "raw",
   "metadata": {},
   "source": [
    "O modelo com maior área sob a curva ROC foi o Gradient Tree Boosting, com AUC = 0.99, o que significa que é o modelo mais balanceado dentre todos, com baixos valores para erros tipo 1 e 2"
   ]
  }
 ],
 "metadata": {
  "kernelspec": {
   "display_name": "Python 3",
   "language": "python",
   "name": "python3"
  },
  "language_info": {
   "codemirror_mode": {
    "name": "ipython",
    "version": 3
   },
   "file_extension": ".py",
   "mimetype": "text/x-python",
   "name": "python",
   "nbconvert_exporter": "python",
   "pygments_lexer": "ipython3",
   "version": "3.7.3"
  }
 },
 "nbformat": 4,
 "nbformat_minor": 2
}
